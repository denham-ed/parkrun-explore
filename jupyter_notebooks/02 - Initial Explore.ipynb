{
  "cells": [
    {
      "attachments": {},
      "cell_type": "markdown",
      "metadata": {
        "id": "0aStgWSO0E0E"
      },
      "source": [
        "# **Initial Exploration**"
      ]
    },
    {
      "cell_type": "markdown",
      "metadata": {
        "id": "1eLEkw5O0ECa"
      },
      "source": [
        "## Objectives\n",
        "\n",
        "* Write here your notebook objective, for example, \"Fetch data from Kaggle and save as raw data\", or \"engineer features for modelling\"\n",
        "\n",
        "## Inputs\n",
        "\n",
        "* Write here which data or information you need to run the notebook \n",
        "\n",
        "## Outputs\n",
        "\n",
        "* Write here which files, code or artefacts you generate by the end of the notebook \n",
        "\n",
        "## Additional Comments\n",
        "\n",
        "* In case you have any additional comments that don't fit in the previous bullets, please state them here. \n"
      ]
    },
    {
      "cell_type": "markdown",
      "metadata": {
        "id": "9uWZXH9LwoQg"
      },
      "source": [
        "---"
      ]
    },
    {
      "cell_type": "markdown",
      "metadata": {
        "id": "cqP-UeN-z3i2"
      },
      "source": [
        "# Change working directory"
      ]
    },
    {
      "cell_type": "markdown",
      "metadata": {},
      "source": [
        "* We are assuming you will store the notebooks in a subfolder, therefore when running the notebook in the editor, you will need to change the working directory"
      ]
    },
    {
      "cell_type": "markdown",
      "metadata": {
        "id": "aOGIGS-uz3i2"
      },
      "source": [
        "We need to change the working directory from its current folder to its parent folder\n",
        "* We access the current directory with os.getcwd()"
      ]
    },
    {
      "cell_type": "code",
      "execution_count": 1,
      "metadata": {
        "id": "wZfF_j-Bz3i4",
        "outputId": "66943449-1436-4c3d-85c7-b85f9f78349b"
      },
      "outputs": [
        {
          "data": {
            "text/plain": [
              "'/Users/edsmacbook/Library/CloudStorage/OneDrive-Personal/code_institute/project-5/parkrun-explore/jupyter_notebooks'"
            ]
          },
          "execution_count": 1,
          "metadata": {},
          "output_type": "execute_result"
        }
      ],
      "source": [
        "import os\n",
        "current_dir = os.getcwd()\n",
        "current_dir"
      ]
    },
    {
      "cell_type": "markdown",
      "metadata": {
        "id": "9MWW8E7lz3i7"
      },
      "source": [
        "We want to make the parent of the current directory the new current directory\n",
        "* os.path.dirname() gets the parent directory\n",
        "* os.chir() defines the new current directory"
      ]
    },
    {
      "cell_type": "code",
      "execution_count": 2,
      "metadata": {
        "id": "TwHsQRWjz3i9",
        "outputId": "86849db3-cd2f-4cc5-ebb8-2d0caafa1a2c"
      },
      "outputs": [
        {
          "name": "stdout",
          "output_type": "stream",
          "text": [
            "You set a new current directory\n"
          ]
        }
      ],
      "source": [
        "os.chdir(os.path.dirname(current_dir))\n",
        "print(\"You set a new current directory\")"
      ]
    },
    {
      "cell_type": "markdown",
      "metadata": {
        "id": "M_xPk_Ijz3i-"
      },
      "source": [
        "Confirm the new current directory"
      ]
    },
    {
      "cell_type": "code",
      "execution_count": 3,
      "metadata": {
        "id": "vz3S-_kjz3jA",
        "outputId": "00b79ae4-75d0-4a96-d193-ac9ef9847ea2"
      },
      "outputs": [
        {
          "data": {
            "text/plain": [
              "'/Users/edsmacbook/Library/CloudStorage/OneDrive-Personal/code_institute/project-5/parkrun-explore'"
            ]
          },
          "execution_count": 3,
          "metadata": {},
          "output_type": "execute_result"
        }
      ],
      "source": [
        "current_dir = os.getcwd()\n",
        "current_dir"
      ]
    },
    {
      "cell_type": "markdown",
      "metadata": {
        "id": "-mavJ8DibrcQ"
      },
      "source": [
        "# Section 1"
      ]
    },
    {
      "cell_type": "markdown",
      "metadata": {},
      "source": [
        "Section 1 content"
      ]
    },
    {
      "cell_type": "code",
      "execution_count": 4,
      "metadata": {},
      "outputs": [
        {
          "data": {
            "text/html": [
              "<div>\n",
              "<style scoped>\n",
              "    .dataframe tbody tr th:only-of-type {\n",
              "        vertical-align: middle;\n",
              "    }\n",
              "\n",
              "    .dataframe tbody tr th {\n",
              "        vertical-align: top;\n",
              "    }\n",
              "\n",
              "    .dataframe thead th {\n",
              "        text-align: right;\n",
              "    }\n",
              "</style>\n",
              "<table border=\"1\" class=\"dataframe\">\n",
              "  <thead>\n",
              "    <tr style=\"text-align: right;\">\n",
              "      <th></th>\n",
              "      <th>name</th>\n",
              "      <th>time</th>\n",
              "      <th>parkrun</th>\n",
              "      <th>race_num</th>\n",
              "      <th>date</th>\n",
              "      <th>year</th>\n",
              "      <th>is_male</th>\n",
              "      <th>med_age</th>\n",
              "      <th>location</th>\n",
              "      <th>co</th>\n",
              "      <th>no</th>\n",
              "      <th>no2</th>\n",
              "      <th>o3</th>\n",
              "      <th>so2</th>\n",
              "      <th>pm2_5</th>\n",
              "      <th>pm10</th>\n",
              "      <th>nh3</th>\n",
              "      <th>county</th>\n",
              "      <th>lat</th>\n",
              "      <th>lon</th>\n",
              "    </tr>\n",
              "  </thead>\n",
              "  <tbody>\n",
              "    <tr>\n",
              "      <th>0</th>\n",
              "      <td>James BAKER</td>\n",
              "      <td>17.183333</td>\n",
              "      <td>hogmoorinclosure</td>\n",
              "      <td>180</td>\n",
              "      <td>2022-12-31</td>\n",
              "      <td>2022</td>\n",
              "      <td>1</td>\n",
              "      <td>47.0</td>\n",
              "      <td>Whitehill</td>\n",
              "      <td>193.6</td>\n",
              "      <td>0.0</td>\n",
              "      <td>4.16</td>\n",
              "      <td>67.23</td>\n",
              "      <td>2.0</td>\n",
              "      <td>3.56</td>\n",
              "      <td>4.59</td>\n",
              "      <td>0.06</td>\n",
              "      <td>Hampshire</td>\n",
              "      <td>51.097719</td>\n",
              "      <td>-0.864067</td>\n",
              "    </tr>\n",
              "    <tr>\n",
              "      <th>1</th>\n",
              "      <td>Jon FAIRS</td>\n",
              "      <td>19.483333</td>\n",
              "      <td>hogmoorinclosure</td>\n",
              "      <td>180</td>\n",
              "      <td>2022-12-31</td>\n",
              "      <td>2022</td>\n",
              "      <td>1</td>\n",
              "      <td>47.0</td>\n",
              "      <td>Whitehill</td>\n",
              "      <td>193.6</td>\n",
              "      <td>0.0</td>\n",
              "      <td>4.16</td>\n",
              "      <td>67.23</td>\n",
              "      <td>2.0</td>\n",
              "      <td>3.56</td>\n",
              "      <td>4.59</td>\n",
              "      <td>0.06</td>\n",
              "      <td>Hampshire</td>\n",
              "      <td>51.097719</td>\n",
              "      <td>-0.864067</td>\n",
              "    </tr>\n",
              "    <tr>\n",
              "      <th>2</th>\n",
              "      <td>Aaron HICKEY</td>\n",
              "      <td>20.750000</td>\n",
              "      <td>hogmoorinclosure</td>\n",
              "      <td>180</td>\n",
              "      <td>2022-12-31</td>\n",
              "      <td>2022</td>\n",
              "      <td>1</td>\n",
              "      <td>18.5</td>\n",
              "      <td>Whitehill</td>\n",
              "      <td>193.6</td>\n",
              "      <td>0.0</td>\n",
              "      <td>4.16</td>\n",
              "      <td>67.23</td>\n",
              "      <td>2.0</td>\n",
              "      <td>3.56</td>\n",
              "      <td>4.59</td>\n",
              "      <td>0.06</td>\n",
              "      <td>Hampshire</td>\n",
              "      <td>51.097719</td>\n",
              "      <td>-0.864067</td>\n",
              "    </tr>\n",
              "    <tr>\n",
              "      <th>3</th>\n",
              "      <td>Oliver BARLOW</td>\n",
              "      <td>21.233333</td>\n",
              "      <td>hogmoorinclosure</td>\n",
              "      <td>180</td>\n",
              "      <td>2022-12-31</td>\n",
              "      <td>2022</td>\n",
              "      <td>1</td>\n",
              "      <td>37.0</td>\n",
              "      <td>Whitehill</td>\n",
              "      <td>193.6</td>\n",
              "      <td>0.0</td>\n",
              "      <td>4.16</td>\n",
              "      <td>67.23</td>\n",
              "      <td>2.0</td>\n",
              "      <td>3.56</td>\n",
              "      <td>4.59</td>\n",
              "      <td>0.06</td>\n",
              "      <td>Hampshire</td>\n",
              "      <td>51.097719</td>\n",
              "      <td>-0.864067</td>\n",
              "    </tr>\n",
              "    <tr>\n",
              "      <th>4</th>\n",
              "      <td>Catherine SEAGER</td>\n",
              "      <td>21.600000</td>\n",
              "      <td>hogmoorinclosure</td>\n",
              "      <td>180</td>\n",
              "      <td>2022-12-31</td>\n",
              "      <td>2022</td>\n",
              "      <td>0</td>\n",
              "      <td>42.0</td>\n",
              "      <td>Whitehill</td>\n",
              "      <td>193.6</td>\n",
              "      <td>0.0</td>\n",
              "      <td>4.16</td>\n",
              "      <td>67.23</td>\n",
              "      <td>2.0</td>\n",
              "      <td>3.56</td>\n",
              "      <td>4.59</td>\n",
              "      <td>0.06</td>\n",
              "      <td>Hampshire</td>\n",
              "      <td>51.097719</td>\n",
              "      <td>-0.864067</td>\n",
              "    </tr>\n",
              "  </tbody>\n",
              "</table>\n",
              "</div>"
            ],
            "text/plain": [
              "               name       time           parkrun  race_num        date  year  \\\n",
              "0       James BAKER  17.183333  hogmoorinclosure       180  2022-12-31  2022   \n",
              "1         Jon FAIRS  19.483333  hogmoorinclosure       180  2022-12-31  2022   \n",
              "2      Aaron HICKEY  20.750000  hogmoorinclosure       180  2022-12-31  2022   \n",
              "3     Oliver BARLOW  21.233333  hogmoorinclosure       180  2022-12-31  2022   \n",
              "4  Catherine SEAGER  21.600000  hogmoorinclosure       180  2022-12-31  2022   \n",
              "\n",
              "   is_male  med_age   location     co   no   no2     o3  so2  pm2_5  pm10  \\\n",
              "0        1     47.0  Whitehill  193.6  0.0  4.16  67.23  2.0   3.56  4.59   \n",
              "1        1     47.0  Whitehill  193.6  0.0  4.16  67.23  2.0   3.56  4.59   \n",
              "2        1     18.5  Whitehill  193.6  0.0  4.16  67.23  2.0   3.56  4.59   \n",
              "3        1     37.0  Whitehill  193.6  0.0  4.16  67.23  2.0   3.56  4.59   \n",
              "4        0     42.0  Whitehill  193.6  0.0  4.16  67.23  2.0   3.56  4.59   \n",
              "\n",
              "    nh3     county        lat       lon  \n",
              "0  0.06  Hampshire  51.097719 -0.864067  \n",
              "1  0.06  Hampshire  51.097719 -0.864067  \n",
              "2  0.06  Hampshire  51.097719 -0.864067  \n",
              "3  0.06  Hampshire  51.097719 -0.864067  \n",
              "4  0.06  Hampshire  51.097719 -0.864067  "
            ]
          },
          "execution_count": 4,
          "metadata": {},
          "output_type": "execute_result"
        }
      ],
      "source": [
        "import pandas as pd\n",
        "df = pd.read_csv(f\"inputs/datasets/raw/airruns.csv\",index_col=0)\n",
        "df.head()"
      ]
    },
    {
      "cell_type": "code",
      "execution_count": null,
      "metadata": {},
      "outputs": [],
      "source": [
        "df.info()"
      ]
    },
    {
      "cell_type": "code",
      "execution_count": 5,
      "metadata": {},
      "outputs": [
        {
          "name": "stdout",
          "output_type": "stream",
          "text": [
            "<class 'pandas.core.frame.DataFrame'>\n",
            "Int64Index: 4351832 entries, 0 to 4351831\n",
            "Data columns (total 8 columns):\n",
            " #   Column   Dtype  \n",
            "---  ------   -----  \n",
            " 0   time     float64\n",
            " 1   parkrun  object \n",
            " 2   date     object \n",
            " 3   year     int64  \n",
            " 4   is_male  int64  \n",
            " 5   med_age  float64\n",
            " 6   lat      float64\n",
            " 7   lon      float64\n",
            "dtypes: float64(4), int64(2), object(2)\n",
            "memory usage: 298.8+ MB\n"
          ]
        }
      ],
      "source": [
        "# Drop atmospheric data, name, location and county, race no\n",
        "df = pd.read_csv(f\"inputs/datasets/raw/airruns.csv\",index_col=0).drop(['co','no','no2','o3','so2','pm2_5','pm10','nh3', 'name','race_num','location', 'county'], axis=1)\n",
        "df.info()"
      ]
    },
    {
      "cell_type": "code",
      "execution_count": null,
      "metadata": {},
      "outputs": [],
      "source": [
        "from ydata_profiling import ProfileReport\n",
        "pandas_report = ProfileReport(df=df, title='Cheeky Explore', minimal=True)\n",
        "pandas_report.to_notebook_iframe()"
      ]
    },
    {
      "attachments": {},
      "cell_type": "markdown",
      "metadata": {},
      "source": [
        "___\n"
      ]
    },
    {
      "attachments": {},
      "cell_type": "markdown",
      "metadata": {},
      "source": [
        "# Mean time of each course"
      ]
    },
    {
      "cell_type": "code",
      "execution_count": 6,
      "metadata": {},
      "outputs": [
        {
          "data": {
            "text/plain": [
              "parkrun\n",
              "aberbeeg         27.493257\n",
              "aberdare         30.547580\n",
              "aberdeen         28.480503\n",
              "aberystwyth      30.052817\n",
              "abingdon         29.497878\n",
              "agnew            31.214215\n",
              "albert           28.418160\n",
              "aldenham         30.333162\n",
              "alderfordlake    31.060566\n",
              "alexandra        27.358245\n",
              "Name: time, dtype: float64"
            ]
          },
          "execution_count": 6,
          "metadata": {},
          "output_type": "execute_result"
        }
      ],
      "source": [
        "mean_times = df.groupby('parkrun')['time'].mean()\n",
        "mean_times.head(10)"
      ]
    },
    {
      "attachments": {},
      "cell_type": "markdown",
      "metadata": {},
      "source": [
        "Plot as bar chart\n"
      ]
    },
    {
      "cell_type": "code",
      "execution_count": 8,
      "metadata": {},
      "outputs": [],
      "source": [
        "import matplotlib.pyplot as plt\n",
        "\n",
        "# mean_times.plot(kind='bar', figsize=(150, 50))\n",
        "# plt.xlabel('Course')\n",
        "# plt.ylabel('Mean Time for Completion')\n",
        "# plt.title('Mean Time for Completion by Course')\n",
        "# plt.xticks(rotation=90)\n",
        "# plt.show()"
      ]
    },
    {
      "attachments": {},
      "cell_type": "markdown",
      "metadata": {},
      "source": [
        "___\n"
      ]
    },
    {
      "attachments": {},
      "cell_type": "markdown",
      "metadata": {},
      "source": [
        "## Distribution of Means"
      ]
    },
    {
      "cell_type": "code",
      "execution_count": 10,
      "metadata": {},
      "outputs": [
        {
          "data": {
            "image/png": "[encoded data removed]",
            "text/plain": [
              "<Figure size 640x480 with 1 Axes>"
            ]
          },
          "metadata": {},
          "output_type": "display_data"
        },
        {
          "data": {
            "image/png": "[encoded data removed]",
            "text/plain": [
              "<Figure size 640x480 with 1 Axes>"
            ]
          },
          "metadata": {},
          "output_type": "display_data"
        }
      ],
      "source": [
        "import scipy.stats as stats\n",
        "\n",
        "# Assuming you have the mean_times Series\n",
        "\n",
        "# Plotting histogram\n",
        "plt.hist(mean_times, bins='auto', alpha=0.7, rwidth=0.85)\n",
        "plt.xlabel('Mean Time for Completion')\n",
        "plt.ylabel('Frequency')\n",
        "plt.title('Distribution of Mean Times')\n",
        "plt.show()\n",
        "\n",
        "# Generating Q-Q plot\n",
        "stats.probplot(mean_times, dist=\"norm\", plot=plt)\n",
        "plt.xlabel('Theoretical Quantiles')\n",
        "plt.ylabel('Sample Quantiles')\n",
        "plt.title('Q-Q Plot')\n",
        "plt.show()"
      ]
    },
    {
      "attachments": {},
      "cell_type": "markdown",
      "metadata": {},
      "source": [
        "Shapiro Wilks"
      ]
    },
    {
      "cell_type": "code",
      "execution_count": 12,
      "metadata": {},
      "outputs": [
        {
          "name": "stdout",
          "output_type": "stream",
          "text": [
            "The mean times are not normally distributed (reject H0)\n"
          ]
        }
      ],
      "source": [
        "from scipy.stats import shapiro\n",
        "\n",
        "# Assuming you have the mean_times Series\n",
        "\n",
        "# Performing Shapiro-Wilk test\n",
        "stat, p_value = shapiro(mean_times)\n",
        "\n",
        "# Checking the p-value\n",
        "alpha = 0.05\n",
        "if p_value > alpha:\n",
        "    print(\"The mean times are normally distributed (fail to reject H0)\")\n",
        "else:\n",
        "    print(\"The mean times are not normally distributed (reject H0)\")\n",
        "\n",
        "## This is interesting? Because it looks pretty normally distirbuted... ED! Check the tail/kurtosis, outliers etc."
      ]
    },
    {
      "attachments": {},
      "cell_type": "markdown",
      "metadata": {},
      "source": [
        "# Analysis of Variance (ANOVA)"
      ]
    },
    {
      "cell_type": "code",
      "execution_count": 14,
      "metadata": {},
      "outputs": [
        {
          "name": "stdout",
          "output_type": "stream",
          "text": [
            "There are significant differences in mean completion times between courses (reject H0)\n",
            "f-value equals 176.51184725589866\n"
          ]
        }
      ],
      "source": [
        "from scipy.stats import f_oneway\n",
        "\n",
        "# Assuming you have a DataFrame called 'df' with columns 'Runner', 'Time', and 'Course'\n",
        "\n",
        "# Performing one-way ANOVA\n",
        "grouped_data = [df['time'][df['parkrun'] == course] for course in df['parkrun'].unique()]\n",
        "f_value, p_value = f_oneway(*grouped_data)\n",
        "\n",
        "# Checking the p-value\n",
        "alpha = 0.05\n",
        "if p_value < alpha:\n",
        "    print(\"There are significant differences in mean completion times between courses (reject H0)\")\n",
        "else:\n",
        "    print(\"There is no significant difference in mean completion times between courses (fail to reject H0)\")\n",
        "\n",
        "# The F-value is calculated as the ratio of two variances (between-groups variance and within-groups variance) and follows an F-distribution. \n",
        "# The F-distribution is always positive and skewed to the right.\n",
        "\n",
        "# The F-value indicates the ratio of the explained variance (variance between the groups) to the unexplained variance (variance within the groups). \n",
        "# Higher F-values indicate larger differences among the group means, suggesting a higher likelihood of a significant difference.\n",
        "print(f\"f-value equals {f_value}\")\n"
      ]
    },
    {
      "cell_type": "markdown",
      "metadata": {
        "id": "ltNetd085qHf"
      },
      "source": [
        "# Push files to Repo"
      ]
    },
    {
      "cell_type": "markdown",
      "metadata": {},
      "source": [
        "* In case you don't need to push files to Repo, you may replace this section with \"Conclusions and Next Steps\" and state your conclusions and next steps."
      ]
    },
    {
      "cell_type": "code",
      "execution_count": null,
      "metadata": {
        "id": "aKlnIozA4eQO",
        "outputId": "fd09bc1f-adb1-4511-f6ce-492a6af570c0"
      },
      "outputs": [],
      "source": [
        "import os\n",
        "try:\n",
        "  # create here your folder\n",
        "  # os.makedirs(name='')\n",
        "except Exception as e:\n",
        "  print(e)\n"
      ]
    }
  ],
  "metadata": {
    "accelerator": "GPU",
    "colab": {
      "name": "Data Practitioner Jupyter Notebook.ipynb",
      "provenance": [],
      "toc_visible": true
    },
    "interpreter": {
      "hash": "8b8334dab9339717f727a1deaf837b322d7a41c20d15cc86be99a8e69ceec8ce"
    },
    "kernelspec": {
      "display_name": "Python 3.8.12 64-bit ('3.8.12': pyenv)",
      "name": "python3"
    },
    "language_info": {
      "codemirror_mode": {
        "name": "ipython",
        "version": 3
      },
      "file_extension": ".py",
      "mimetype": "text/x-python",
      "name": "python",
      "nbconvert_exporter": "python",
      "pygments_lexer": "ipython3",
      "version": "3.11.2"
    },
    "orig_nbformat": 2
  },
  "nbformat": 4,
  "nbformat_minor": 2
}
